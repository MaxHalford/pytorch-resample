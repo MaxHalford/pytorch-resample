{
 "cells": [
  {
   "cell_type": "markdown",
   "metadata": {},
   "source": [
    "# Benchmarks"
   ]
  },
  {
   "cell_type": "markdown",
   "metadata": {},
   "source": [
    "## Setup"
   ]
  },
  {
   "cell_type": "markdown",
   "metadata": {},
   "source": [
    "We'll use the [credit card dataset](https://datahub.io/machine-learning/creditcard) that is commonly used as an imbalanced binary classification task."
   ]
  },
  {
   "cell_type": "code",
   "execution_count": 2,
   "metadata": {},
   "outputs": [
    {
     "name": "stdout",
     "output_type": "stream",
     "text": [
      "--2020-08-12 18:20:10--  https://datahub.io/machine-learning/creditcard/r/creditcard.csv\n",
      "Resolving datahub.io (datahub.io)... 104.18.48.253, 104.18.49.253, 172.67.157.38\n",
      "Connecting to datahub.io (datahub.io)|104.18.48.253|:443... connected.\n",
      "HTTP request sent, awaiting response... 302 Found\n",
      "Location: https://pkgstore.datahub.io/machine-learning/creditcard/creditcard_csv/data/ebdc64b6837b3026238f3fcad3402337/creditcard_csv.csv [following]\n",
      "--2020-08-12 18:20:11--  https://pkgstore.datahub.io/machine-learning/creditcard/creditcard_csv/data/ebdc64b6837b3026238f3fcad3402337/creditcard_csv.csv\n",
      "Resolving pkgstore.datahub.io (pkgstore.datahub.io)... 104.18.49.253, 172.67.157.38, 104.18.48.253\n",
      "Connecting to pkgstore.datahub.io (pkgstore.datahub.io)|104.18.49.253|:443... connected.\n",
      "HTTP request sent, awaiting response... 200 OK\n",
      "Length: 151114991 (144M) [text/csv]\n",
      "Saving to: ‘creditcard.csv’\n",
      "\n",
      "creditcard.csv      100%[===================>] 144.11M  17.7MB/s    in 8.6s    \n",
      "\n",
      "2020-08-12 18:20:21 (16.7 MB/s) - ‘creditcard.csv’ saved [151114991/151114991]\n",
      "\n"
     ]
    }
   ],
   "source": [
    "!wget https://datahub.io/machine-learning/creditcard/r/creditcard.csv"
   ]
  },
  {
   "cell_type": "markdown",
   "metadata": {},
   "source": [
    "Do a train/test split."
   ]
  },
  {
   "cell_type": "code",
   "execution_count": 72,
   "metadata": {},
   "outputs": [],
   "source": [
    "import pandas as pd\n",
    "from sklearn import preprocessing\n",
    "\n",
    "credit = pd.read_csv('creditcard.csv')\n",
    "credit = credit.drop(columns=['Time'])\n",
    "features = credit.columns.drop('Class')\n",
    "credit.loc[:, features] = preprocessing.scale(credit.loc[:, features])\n",
    "credit['Class'] = (credit['Class'] == \"'1'\").astype(int)\n",
    "\n",
    "n_test = 40_000\n",
    "credit[:-n_test].to_csv('train.csv', index=False)\n",
    "credit[-n_test:].to_csv('test.csv', index=False)"
   ]
  },
  {
   "cell_type": "markdown",
   "metadata": {},
   "source": [
    "While we're at it, let's look at the class distribution."
   ]
  },
  {
   "cell_type": "code",
   "execution_count": 94,
   "metadata": {},
   "outputs": [
    {
     "data": {
      "text/plain": [
       "0    0.998273\n",
       "1    0.001727\n",
       "Name: Class, dtype: float64"
      ]
     },
     "execution_count": 94,
     "metadata": {},
     "output_type": "execute_result"
    }
   ],
   "source": [
    "credit['Class'].value_counts(normalize=True)"
   ]
  },
  {
   "cell_type": "markdown",
   "metadata": {},
   "source": [
    "Define a helper function to train a PyTorch model on an `IterableDataset`."
   ]
  },
  {
   "cell_type": "code",
   "execution_count": 73,
   "metadata": {},
   "outputs": [],
   "source": [
    "import torch\n",
    "\n",
    "def train(net, optimizer, criterion, train_batches):\n",
    "\n",
    "    for x_batch, y_batch in train_batches:\n",
    "\n",
    "        optimizer.zero_grad()\n",
    "        y_pred = net(x_batch)\n",
    "        loss = criterion(y_pred[:, 0], y_batch.float())\n",
    "        loss.backward()\n",
    "        optimizer.step()\n",
    "        \n",
    "    return net"
   ]
  },
  {
   "cell_type": "markdown",
   "metadata": {},
   "source": [
    "Define a helper function to score a PyTorch model on a test set."
   ]
  },
  {
   "cell_type": "code",
   "execution_count": 84,
   "metadata": {},
   "outputs": [],
   "source": [
    "import numpy as np\n",
    "\n",
    "def score(net, test_batches, metric):\n",
    "    \n",
    "    y_true = []\n",
    "    y_pred = []\n",
    "    \n",
    "    for x_batch, y_batch in test_batches:\n",
    "        y_true.extend(y_batch.detach().numpy())\n",
    "        y_pred.extend(net(x_batch).detach().numpy()[:, 0])\n",
    "        \n",
    "    y_true = np.array(y_true)\n",
    "    y_pred = np.array(y_pred)\n",
    "    \n",
    "    return metric(y_true, y_pred)"
   ]
  },
  {
   "cell_type": "markdown",
   "metadata": {},
   "source": [
    "Let's also create an `IterableDataset` that reads from a CSV file. The following implementation is not very generic nor flexible, but it will do for this notebook."
   ]
  },
  {
   "cell_type": "code",
   "execution_count": 78,
   "metadata": {},
   "outputs": [],
   "source": [
    "import csv\n",
    "\n",
    "class IterableCSV(torch.utils.data.IterableDataset):\n",
    "    \n",
    "    def __init__(self, path):\n",
    "        self.path = path\n",
    "        \n",
    "    def __iter__(self):\n",
    "        \n",
    "        with open(self.path) as file:\n",
    "            reader = csv.reader(file)\n",
    "            header = next(reader)\n",
    "            for row in reader:\n",
    "                x = [float(el) for el in row[:-1]]\n",
    "                y = int(row[-1])\n",
    "                yield torch.tensor(x), y"
   ]
  },
  {
   "cell_type": "markdown",
   "metadata": {},
   "source": [
    "We can now define the training and test set loaders."
   ]
  },
  {
   "cell_type": "code",
   "execution_count": 79,
   "metadata": {},
   "outputs": [],
   "source": [
    "train_set = IterableCSV(path='train.csv')\n",
    "test_set = IterableCSV(path='test.csv')"
   ]
  },
  {
   "cell_type": "markdown",
   "metadata": {},
   "source": [
    "## Vanilla"
   ]
  },
  {
   "cell_type": "code",
   "execution_count": 117,
   "metadata": {},
   "outputs": [],
   "source": [
    "def make_net(n_features):\n",
    "    \n",
    "    torch.manual_seed(0)\n",
    "    \n",
    "    return torch.nn.Sequential(\n",
    "        torch.nn.Linear(n_features, 30),\n",
    "        torch.nn.Linear(30, 1)\n",
    "    )"
   ]
  },
  {
   "cell_type": "code",
   "execution_count": 118,
   "metadata": {},
   "outputs": [
    {
     "name": "stdout",
     "output_type": "stream",
     "text": [
      "CPU times: user 10.6 s, sys: 240 ms, total: 10.8 s\n",
      "Wall time: 10.8 s\n"
     ]
    }
   ],
   "source": [
    "%%time\n",
    "\n",
    "net = make_net(len(features))\n",
    "\n",
    "net = train(\n",
    "    net,\n",
    "    optimizer=torch.optim.SGD(net.parameters(), lr=1e-2),\n",
    "    criterion=torch.nn.BCEWithLogitsLoss(),\n",
    "    train_batches=torch.utils.data.DataLoader(train_set, batch_size=16)\n",
    ")"
   ]
  },
  {
   "cell_type": "code",
   "execution_count": 119,
   "metadata": {},
   "outputs": [
    {
     "data": {
      "text/plain": [
       "0.9557763595155662"
      ]
     },
     "execution_count": 119,
     "metadata": {},
     "output_type": "execute_result"
    }
   ],
   "source": [
    "from sklearn import metrics\n",
    "\n",
    "score(\n",
    "    net,\n",
    "    test_batches=torch.utils.data.DataLoader(test_set, batch_size=16),\n",
    "    metric=metrics.roc_auc_score\n",
    ")"
   ]
  },
  {
   "cell_type": "markdown",
   "metadata": {},
   "source": [
    "## Under-sampling"
   ]
  },
  {
   "cell_type": "code",
   "execution_count": 120,
   "metadata": {},
   "outputs": [],
   "source": [
    "import pytorch_resample\n",
    "\n",
    "train_sample = pytorch_resample.UnderSampler(\n",
    "    train_set,\n",
    "    desired_dist={0: .8, 1: .2},\n",
    "    seed=42\n",
    ")"
   ]
  },
  {
   "cell_type": "code",
   "execution_count": 121,
   "metadata": {},
   "outputs": [
    {
     "name": "stdout",
     "output_type": "stream",
     "text": [
      "CPU times: user 5.98 s, sys: 54.9 ms, total: 6.04 s\n",
      "Wall time: 6.05 s\n"
     ]
    }
   ],
   "source": [
    "%%time\n",
    "\n",
    "net = make_net(len(features))\n",
    "\n",
    "net = train(\n",
    "    net,\n",
    "    optimizer=torch.optim.SGD(net.parameters(), lr=1e-2),\n",
    "    criterion=torch.nn.BCEWithLogitsLoss(),\n",
    "    train_batches=torch.utils.data.DataLoader(train_sample, batch_size=16)\n",
    ")"
   ]
  },
  {
   "cell_type": "code",
   "execution_count": 122,
   "metadata": {},
   "outputs": [
    {
     "data": {
      "text/plain": [
       "0.9162552315799719"
      ]
     },
     "execution_count": 122,
     "metadata": {},
     "output_type": "execute_result"
    }
   ],
   "source": [
    "score(\n",
    "    net,\n",
    "    test_batches=torch.utils.data.DataLoader(test_set, batch_size=16),\n",
    "    metric=metrics.roc_auc_score\n",
    ")"
   ]
  },
  {
   "cell_type": "markdown",
   "metadata": {},
   "source": [
    "## Over-sampling"
   ]
  },
  {
   "cell_type": "code",
   "execution_count": 123,
   "metadata": {},
   "outputs": [],
   "source": [
    "train_sample = pytorch_resample.OverSampler(\n",
    "    train_set,\n",
    "    desired_dist={0: .8, 1: .2},\n",
    "    seed=42\n",
    ")"
   ]
  },
  {
   "cell_type": "code",
   "execution_count": 124,
   "metadata": {},
   "outputs": [
    {
     "name": "stdout",
     "output_type": "stream",
     "text": [
      "CPU times: user 12.1 s, sys: 287 ms, total: 12.4 s\n",
      "Wall time: 12.4 s\n"
     ]
    }
   ],
   "source": [
    "%%time\n",
    "\n",
    "net = make_net(len(features))\n",
    "\n",
    "net = train(\n",
    "    net,\n",
    "    optimizer=torch.optim.SGD(net.parameters(), lr=1e-2),\n",
    "    criterion=torch.nn.BCEWithLogitsLoss(),\n",
    "    train_batches=torch.utils.data.DataLoader(train_sample, batch_size=16)\n",
    ")"
   ]
  },
  {
   "cell_type": "code",
   "execution_count": 125,
   "metadata": {},
   "outputs": [
    {
     "data": {
      "text/plain": [
       "0.9642164101280608"
      ]
     },
     "execution_count": 125,
     "metadata": {},
     "output_type": "execute_result"
    }
   ],
   "source": [
    "score(\n",
    "    net,\n",
    "    test_batches=torch.utils.data.DataLoader(test_set, batch_size=16),\n",
    "    metric=metrics.roc_auc_score\n",
    ")"
   ]
  },
  {
   "cell_type": "markdown",
   "metadata": {},
   "source": [
    "## Hybrid method"
   ]
  },
  {
   "cell_type": "code",
   "execution_count": 126,
   "metadata": {},
   "outputs": [],
   "source": [
    "train_sample = pytorch_resample.HybridSampler(\n",
    "    train_set,\n",
    "    desired_dist={0: .8, 1: .2},\n",
    "    sampling_rate=.5,\n",
    "    seed=42\n",
    ")"
   ]
  },
  {
   "cell_type": "code",
   "execution_count": 127,
   "metadata": {},
   "outputs": [
    {
     "name": "stdout",
     "output_type": "stream",
     "text": [
      "CPU times: user 8.95 s, sys: 166 ms, total: 9.11 s\n",
      "Wall time: 9.14 s\n"
     ]
    }
   ],
   "source": [
    "%%time\n",
    "\n",
    "net = make_net(len(features))\n",
    "\n",
    "net = train(\n",
    "    net,\n",
    "    optimizer=torch.optim.SGD(net.parameters(), lr=1e-2),\n",
    "    criterion=torch.nn.BCEWithLogitsLoss(),\n",
    "    train_batches=torch.utils.data.DataLoader(train_sample, batch_size=16)\n",
    ")"
   ]
  },
  {
   "cell_type": "code",
   "execution_count": 128,
   "metadata": {},
   "outputs": [
    {
     "data": {
      "text/plain": [
       "0.9687554053866155"
      ]
     },
     "execution_count": 128,
     "metadata": {},
     "output_type": "execute_result"
    }
   ],
   "source": [
    "score(\n",
    "    net,\n",
    "    test_batches=torch.utils.data.DataLoader(test_set, batch_size=16),\n",
    "    metric=metrics.roc_auc_score\n",
    ")"
   ]
  }
 ],
 "metadata": {
  "kernelspec": {
   "display_name": "Python 3",
   "language": "python",
   "name": "python3"
  },
  "language_info": {
   "codemirror_mode": {
    "name": "ipython",
    "version": 3
   },
   "file_extension": ".py",
   "mimetype": "text/x-python",
   "name": "python",
   "nbconvert_exporter": "python",
   "pygments_lexer": "ipython3",
   "version": "3.7.4"
  }
 },
 "nbformat": 4,
 "nbformat_minor": 4
}
